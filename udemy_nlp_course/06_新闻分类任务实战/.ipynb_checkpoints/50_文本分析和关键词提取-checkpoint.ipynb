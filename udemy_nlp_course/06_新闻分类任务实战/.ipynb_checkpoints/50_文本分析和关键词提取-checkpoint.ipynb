{
 "cells": [
  {
   "cell_type": "markdown",
   "metadata": {},
   "source": [
    "## 1.停用词\n",
    "构建自己的停用词表，可以从网上采集， 在语料中大量出现，但是没啥用。\n",
    "hengda 停用词表\n",
    "## 2. 关键词提取 tf-idf\n",
    "找出最能代表这个文章的词。\n",
    "##### TF：\n",
    "term frequency. 词频. \n",
    "假如“中国”, \"蜜蜂\", \"养殖\"， 出现的次数一样多，但是他们的重要性相同吗？\n",
    "中国是常见的词，但是蜜蜂和养殖不是常见的词。\n",
    "一篇文章里面，词越稀有，越重要，越是关键词\n",
    "##### IDF \n",
    "inverse document frequency: 逆文档频率\n",
    "词频 = 某个词在文章中的出现次数/文档中词的总数\n",
    "\n",
    "逆文档频率(IDF) = log(总文档个数/当前词出现的文档个数)\n",
    "举个例子：\n",
    "一个由100个单词组成的文档中，cat的次数为3, 那么TF = 3/100=0.3\n",
    "样本中一共有10000个文档，但是包含cat的文档数为10， 那么IDF = log(10000/10)=4\n",
    "\n",
    "TF-IDF = 0.3 * 4 = 1.2 \n"
   ]
  },
  {
   "cell_type": "code",
   "execution_count": null,
   "metadata": {},
   "outputs": [],
   "source": []
  }
 ],
 "metadata": {
  "kernelspec": {
   "display_name": "Python 3",
   "language": "python",
   "name": "python3"
  },
  "language_info": {
   "codemirror_mode": {
    "name": "ipython",
    "version": 3
   },
   "file_extension": ".py",
   "mimetype": "text/x-python",
   "name": "python",
   "nbconvert_exporter": "python",
   "pygments_lexer": "ipython3",
   "version": "3.7.3"
  }
 },
 "nbformat": 4,
 "nbformat_minor": 2
}
