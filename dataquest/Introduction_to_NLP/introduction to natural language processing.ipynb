{
 "cells": [
  {
   "cell_type": "markdown",
   "metadata": {},
   "source": [
    "## 1. 简介\n",
    "每个人，当你听自己的母语的时候，非常本能的就能明白什么意思。但是，大多数人在学习第二语言的时候，会发现学习的过程非常的痛苦。他们需要将听到的语句按照时态分割成很多部分才能理解其中的意思。大多数人基本需要花费差不多数年的时间学习，才能真正在对话中，理解别人意思。\n",
    "\n",
    "学习语言是非常困难的，因为语言一般都有很复杂的规则。如果我们想让计算机理解语言，我要么的需要非常详细的教会计算机这些规则，或者需要让计算机能自己去学习这些规则。前者更多的像是学习一门第二语言，后者则更多的像学习一门母语。\n",
    "\n",
    "更宽泛的讲，自然语言处理就是一门让计算机理解人类语言的学科。这个领域的技术可能包括计算机学习给论文打分，检查语法规则， 和文本的情感分析。\n",
    "\n",
    "在本次学习过程中，我们将学习自然语言处理的基本知识。当我们给计算机喂入一段文字时，计算机并不知道这段文本的意思。为了能让计算机能开始推论该文本的意思，我们需要将文本转换做一些数字的转换。这个过程将能帮助计算适应语法规则，zh\n",
    "\n"
   ]
  }
 ],
 "metadata": {
  "kernelspec": {
   "display_name": "Python 3",
   "language": "python",
   "name": "python3"
  },
  "language_info": {
   "codemirror_mode": {
    "name": "ipython",
    "version": 3
   },
   "file_extension": ".py",
   "mimetype": "text/x-python",
   "name": "python",
   "nbconvert_exporter": "python",
   "pygments_lexer": "ipython3",
   "version": "3.7.3"
  }
 },
 "nbformat": 4,
 "nbformat_minor": 2
}
