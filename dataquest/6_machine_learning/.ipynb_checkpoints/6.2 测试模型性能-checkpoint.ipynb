{
 "cells": [
  {
   "cell_type": "markdown",
   "metadata": {},
   "source": [
    "### 1. 测试预测准确度\n",
    "现在已经有一个预测模型，但是如何测试预测模型的准确度呢。\n",
    "machine learning model is a function that returns the prediction\n",
    "一般的情况是，\n",
    "我们将数据集分为2部分，\n",
    "+ 训练集： 包含绝大部分训练数据(75%)\n",
    "+ 测试集： 包含剩下部分(25%)\n",
    "然后将测试集的用测试集的数据计算出预测价格，与实际价格对比，判断准确度。\n",
    "train/test validation -> "
   ]
  },
  {
   "cell_type": "code",
   "execution_count": 31,
   "metadata": {},
   "outputs": [
    {
     "name": "stderr",
     "output_type": "stream",
     "text": [
      "/home/python/.virtualenvs/nlp/lib/python3.7/site-packages/ipykernel_launcher.py:18: SettingWithCopyWarning: \n",
      "A value is trying to be set on a copy of a slice from a DataFrame.\n",
      "Try using .loc[row_indexer,col_indexer] = value instead\n",
      "\n",
      "See the caveats in the documentation: http://pandas.pydata.org/pandas-docs/stable/indexing.html#indexing-view-versus-copy\n"
     ]
    },
    {
     "data": {
      "text/html": [
       "<div>\n",
       "<style scoped>\n",
       "    .dataframe tbody tr th:only-of-type {\n",
       "        vertical-align: middle;\n",
       "    }\n",
       "\n",
       "    .dataframe tbody tr th {\n",
       "        vertical-align: top;\n",
       "    }\n",
       "\n",
       "    .dataframe thead th {\n",
       "        text-align: right;\n",
       "    }\n",
       "</style>\n",
       "<table border=\"1\" class=\"dataframe\">\n",
       "  <thead>\n",
       "    <tr style=\"text-align: right;\">\n",
       "      <th></th>\n",
       "      <th>price</th>\n",
       "      <th>predicted_price</th>\n",
       "    </tr>\n",
       "  </thead>\n",
       "  <tbody>\n",
       "    <tr>\n",
       "      <th>2792</th>\n",
       "      <td>120.0</td>\n",
       "      <td>109.92</td>\n",
       "    </tr>\n",
       "    <tr>\n",
       "      <th>2793</th>\n",
       "      <td>140.0</td>\n",
       "      <td>154.89</td>\n",
       "    </tr>\n",
       "    <tr>\n",
       "      <th>2794</th>\n",
       "      <td>299.0</td>\n",
       "      <td>163.82</td>\n",
       "    </tr>\n",
       "    <tr>\n",
       "      <th>2795</th>\n",
       "      <td>85.0</td>\n",
       "      <td>154.89</td>\n",
       "    </tr>\n",
       "    <tr>\n",
       "      <th>2796</th>\n",
       "      <td>175.0</td>\n",
       "      <td>238.99</td>\n",
       "    </tr>\n",
       "  </tbody>\n",
       "</table>\n",
       "</div>"
      ],
      "text/plain": [
       "      price  predicted_price\n",
       "2792  120.0           109.92\n",
       "2793  140.0           154.89\n",
       "2794  299.0           163.82\n",
       "2795   85.0           154.89\n",
       "2796  175.0           238.99"
      ]
     },
     "execution_count": 31,
     "metadata": {},
     "output_type": "execute_result"
    }
   ],
   "source": [
    "# 1 准备测试集和训练集\n",
    "import pandas as pd \n",
    "import numpy as np\n",
    "\n",
    "dc_listing  = pd.read_csv('dc_airbnb.csv')\n",
    "dc_listing.price = dc_listing.price.str.replace('$', '').str.replace(',', '').astype(float)\n",
    "\n",
    "train_df = dc_listing.iloc[:2792]\n",
    "test_df = dc_listing.iloc[2792:]\n",
    "\n",
    "def make_prediction(new_listing):\n",
    "    df = train_df.copy()\n",
    "    df['distance'] = df.accommodates.map(lambda x: np.abs(x - new_listing))\n",
    "    df = df.sort_values(by=['distance'], ascending=True)\n",
    "    nearest_neighbor_prices = df[df.distance==0].price.mean().round(2)\n",
    "    return nearest_neighbor_prices\n",
    "\n",
    "test_df['predicted_price'] = test_df.accommodates.apply(make_prediction)                                                  \n",
    "test_df[['price', 'predicted_price']].head()"
   ]
  },
  {
   "cell_type": "markdown",
   "metadata": {},
   "source": [
    "### 2. 计算平均绝对误差\n",
    "<math xmlns=\"http://www.w3.org/1998/Math/MathML\">\n",
    "  <mi>M</mi>\n",
    "  <mi>A</mi>\n",
    "  <mi>E</mi>\n",
    "  <mo>=</mo>\n",
    "  <mfrac>\n",
    "    <mn>1</mn>\n",
    "    <mi>n</mi>\n",
    "  </mfrac>\n",
    "  <munderover>\n",
    "    <mo>&#x2211;<!-- ∑ --></mo>\n",
    "    <mrow class=\"MJX-TeXAtom-ORD\">\n",
    "      <mi>k</mi>\n",
    "      <mo>=</mo>\n",
    "      <mn>1</mn>\n",
    "    </mrow>\n",
    "    <mrow class=\"MJX-TeXAtom-ORD\">\n",
    "      <mi>n</mi>\n",
    "    </mrow>\n",
    "  </munderover>\n",
    "  <mo fence=\"false\" stretchy=\"false\">&#x007C;<!-- | --></mo>\n",
    "  <mo stretchy=\"false\">(</mo>\n",
    "  <mi>a</mi>\n",
    "  <mi>c</mi>\n",
    "  <mi>t</mi>\n",
    "  <mi>u</mi>\n",
    "  <mi>a</mi>\n",
    "  <msub>\n",
    "    <mi>l</mi>\n",
    "    <mn>1</mn>\n",
    "  </msub>\n",
    "  <mo>&#x2212;<!-- − --></mo>\n",
    "  <mi>p</mi>\n",
    "  <mi>r</mi>\n",
    "  <mi>e</mi>\n",
    "  <mi>d</mi>\n",
    "  <mi>i</mi>\n",
    "  <mi>c</mi>\n",
    "  <mi>t</mi>\n",
    "  <mi>e</mi>\n",
    "  <msub>\n",
    "    <mi>d</mi>\n",
    "    <mn>1</mn>\n",
    "  </msub>\n",
    "  <mo stretchy=\"false\">)</mo>\n",
    "  <mo fence=\"false\" stretchy=\"false\">&#x007C;<!-- | --></mo>\n",
    "  <mo>+</mo>\n",
    "  <mo>&#x22EF;<!-- ⋯ --></mo>\n",
    "  <mo>+</mo>\n",
    "  <mo fence=\"false\" stretchy=\"false\">&#x007C;<!-- | --></mo>\n",
    "  <mo stretchy=\"false\">(</mo>\n",
    "  <mi>a</mi>\n",
    "  <mi>c</mi>\n",
    "  <mi>t</mi>\n",
    "  <mi>u</mi>\n",
    "  <mi>a</mi>\n",
    "  <msub>\n",
    "    <mi>l</mi>\n",
    "    <mi>n</mi>\n",
    "  </msub>\n",
    "  <mo>&#x2212;<!-- − --></mo>\n",
    "  <mi>p</mi>\n",
    "  <mi>r</mi>\n",
    "  <mi>e</mi>\n",
    "  <mi>d</mi>\n",
    "  <mi>i</mi>\n",
    "  <mi>c</mi>\n",
    "  <mi>t</mi>\n",
    "  <mi>e</mi>\n",
    "  <msub>\n",
    "    <mi>d</mi>\n",
    "    <mi>n</mi>\n",
    "  </msub>\n",
    "  <mo stretchy=\"false\">)</mo>\n",
    "  <mo fence=\"false\" stretchy=\"false\">&#x007C;<!-- | --></mo>\n",
    "</math>\n"
   ]
  },
  {
   "cell_type": "code",
   "execution_count": 32,
   "metadata": {},
   "outputs": [
    {
     "name": "stderr",
     "output_type": "stream",
     "text": [
      "/home/python/.virtualenvs/nlp/lib/python3.7/site-packages/ipykernel_launcher.py:1: SettingWithCopyWarning: \n",
      "A value is trying to be set on a copy of a slice from a DataFrame.\n",
      "Try using .loc[row_indexer,col_indexer] = value instead\n",
      "\n",
      "See the caveats in the documentation: http://pandas.pydata.org/pandas-docs/stable/indexing.html#indexing-view-versus-copy\n",
      "  \"\"\"Entry point for launching an IPython kernel.\n"
     ]
    },
    {
     "data": {
      "text/plain": [
       "56.97"
      ]
     },
     "execution_count": 32,
     "metadata": {},
     "output_type": "execute_result"
    }
   ],
   "source": [
    "test_df['error'] = np.absolute(test_df.predicted_price -test_df.price)\n",
    "test_df.error.mean().round(2)"
   ]
  },
  {
   "cell_type": "markdown",
   "metadata": {},
   "source": [
    "### 3. 计算方差 \n",
    "<math xmlns=\"http://www.w3.org/1998/Math/MathML\">\n",
    "  <mi>M</mi>\n",
    "  <mi>S</mi>\n",
    "  <mi>E</mi>\n",
    "  <mo>=</mo>\n",
    "  <mfrac>\n",
    "    <mn>1</mn>\n",
    "    <mi>n</mi>\n",
    "  </mfrac>\n",
    "  <munderover>\n",
    "    <mo>&#x2211;<!-- ∑ --></mo>\n",
    "    <mrow class=\"MJX-TeXAtom-ORD\">\n",
    "      <mi>k</mi>\n",
    "      <mo>=</mo>\n",
    "      <mn>1</mn>\n",
    "    </mrow>\n",
    "    <mrow class=\"MJX-TeXAtom-ORD\">\n",
    "      <mi>n</mi>\n",
    "    </mrow>\n",
    "  </munderover>\n",
    "  <mo stretchy=\"false\">(</mo>\n",
    "  <mi>a</mi>\n",
    "  <mi>c</mi>\n",
    "  <mi>t</mi>\n",
    "  <mi>u</mi>\n",
    "  <mi>a</mi>\n",
    "  <msub>\n",
    "    <mi>l</mi>\n",
    "    <mn>1</mn>\n",
    "  </msub>\n",
    "  <mo>&#x2212;<!-- − --></mo>\n",
    "  <mi>p</mi>\n",
    "  <mi>r</mi>\n",
    "  <mi>e</mi>\n",
    "  <mi>d</mi>\n",
    "  <mi>i</mi>\n",
    "  <mi>c</mi>\n",
    "  <mi>t</mi>\n",
    "  <mi>e</mi>\n",
    "  <msub>\n",
    "    <mi>d</mi>\n",
    "    <mn>1</mn>\n",
    "  </msub>\n",
    "  <msup>\n",
    "    <mo stretchy=\"false\">)</mo>\n",
    "    <mrow class=\"MJX-TeXAtom-ORD\">\n",
    "      <mn>2</mn>\n",
    "    </mrow>\n",
    "  </msup>\n",
    "  <mo>+</mo>\n",
    "  <mo>&#x22EF;<!-- ⋯ --></mo>\n",
    "  <mo>+</mo>\n",
    "  <mo stretchy=\"false\">(</mo>\n",
    "  <mi>a</mi>\n",
    "  <mi>c</mi>\n",
    "  <mi>t</mi>\n",
    "  <mi>u</mi>\n",
    "  <mi>a</mi>\n",
    "  <msub>\n",
    "    <mi>l</mi>\n",
    "    <mi>n</mi>\n",
    "  </msub>\n",
    "  <mo>&#x2212;<!-- − --></mo>\n",
    "  <mi>p</mi>\n",
    "  <mi>r</mi>\n",
    "  <mi>e</mi>\n",
    "  <mi>d</mi>\n",
    "  <mi>i</mi>\n",
    "  <mi>c</mi>\n",
    "  <mi>t</mi>\n",
    "  <mi>e</mi>\n",
    "  <msub>\n",
    "    <mi>d</mi>\n",
    "    <mi>n</mi>\n",
    "  </msub>\n",
    "  <msup>\n",
    "    <mo stretchy=\"false\">)</mo>\n",
    "    <mrow class=\"MJX-TeXAtom-ORD\">\n",
    "      <mn>2</mn>\n",
    "    </mrow>\n",
    "  </msup>\n",
    "</math>"
   ]
  },
  {
   "cell_type": "code",
   "execution_count": 39,
   "metadata": {},
   "outputs": [
    {
     "name": "stderr",
     "output_type": "stream",
     "text": [
      "/home/python/.virtualenvs/nlp/lib/python3.7/site-packages/ipykernel_launcher.py:2: SettingWithCopyWarning: \n",
      "A value is trying to be set on a copy of a slice from a DataFrame.\n",
      "Try using .loc[row_indexer,col_indexer] = value instead\n",
      "\n",
      "See the caveats in the documentation: http://pandas.pydata.org/pandas-docs/stable/indexing.html#indexing-view-versus-copy\n",
      "  \n"
     ]
    },
    {
     "data": {
      "text/plain": [
       "17910.29"
      ]
     },
     "execution_count": 39,
     "metadata": {},
     "output_type": "execute_result"
    }
   ],
   "source": [
    "import math \n",
    "test_df['squared_error'] = np.square(test_df.predicted_price - test_df.price)\n",
    "# test_df['squared_error'] = (test_df.predicted_price - test_df.price)**2\n",
    "\n",
    "test_df.squared_error.mean().round(2)"
   ]
  },
  {
   "cell_type": "code",
   "execution_count": 40,
   "metadata": {
    "scrolled": true
   },
   "outputs": [
    {
     "name": "stderr",
     "output_type": "stream",
     "text": [
      "/home/python/.virtualenvs/nlp/lib/python3.7/site-packages/ipykernel_launcher.py:9: SettingWithCopyWarning: \n",
      "A value is trying to be set on a copy of a slice from a DataFrame.\n",
      "Try using .loc[row_indexer,col_indexer] = value instead\n",
      "\n",
      "See the caveats in the documentation: http://pandas.pydata.org/pandas-docs/stable/indexing.html#indexing-view-versus-copy\n",
      "  if __name__ == '__main__':\n"
     ]
    },
    {
     "name": "stdout",
     "output_type": "stream",
     "text": [
      "18405.44408163265\n"
     ]
    },
    {
     "name": "stderr",
     "output_type": "stream",
     "text": [
      "/home/python/.virtualenvs/nlp/lib/python3.7/site-packages/ipykernel_launcher.py:10: SettingWithCopyWarning: \n",
      "A value is trying to be set on a copy of a slice from a DataFrame.\n",
      "Try using .loc[row_indexer,col_indexer] = value instead\n",
      "\n",
      "See the caveats in the documentation: http://pandas.pydata.org/pandas-docs/stable/indexing.html#indexing-view-versus-copy\n",
      "  # Remove the CWD from sys.path while we load stuff.\n"
     ]
    }
   ],
   "source": [
    "def predict_price(new_listing):\n",
    "    temp_df = train_df.copy()\n",
    "    temp_df['distance'] = temp_df['bathrooms'].apply(lambda x: np.abs(x - new_listing))\n",
    "    temp_df = temp_df.sort_values('distance')\n",
    "    nearest_neighbors_prices = temp_df.iloc[0:5]['price']\n",
    "    predicted_price = nearest_neighbors_prices.mean()\n",
    "    return(predicted_price)\n",
    "\n",
    "test_df['predicted_price'] = test_df['bathrooms'].apply(lambda x: predict_price(x))\n",
    "test_df['squared_error'] = (test_df['predicted_price'] - test_df['price'])**(2)\n",
    "mse = test_df['squared_error'].mean()\n",
    "print(mse)"
   ]
  },
  {
   "attachments": {
    "image.png": {
     "image/png": "[encoded data removed]"
    }
   },
   "cell_type": "markdown",
   "metadata": {},
   "source": [
    "### 5. Root Mean Squared Error 均方根差\n",
    "\n",
    "均方根差 特别大，我们应该提升我们的模型，让均方根差越小越好\n",
    "![image.png](attachment:image.png)\n",
    "![image.png](attachment:image.png)"
   ]
  },
  {
   "cell_type": "code",
   "execution_count": 43,
   "metadata": {},
   "outputs": [
    {
     "data": {
      "text/plain": [
       "135.67"
      ]
     },
     "execution_count": 43,
     "metadata": {},
     "output_type": "execute_result"
    }
   ],
   "source": [
    "rmse = np.sqrt(mse).round(2)\n",
    "\n",
    "rmse"
   ]
  },
  {
   "cell_type": "markdown",
   "metadata": {},
   "source": [
    "### 6. 对比MSE和RMSE\n"
   ]
  },
  {
   "cell_type": "code",
   "execution_count": 54,
   "metadata": {},
   "outputs": [
    {
     "name": "stdout",
     "output_type": "stream",
     "text": [
      "7.5 7.905694150420948\n",
      "62.5 235.82302686548658\n"
     ]
    }
   ],
   "source": [
    "errors_one = pd.Series([5, 10, 5, 10, 5, 10, 5, 10, 5, 10, 5, 10, 5, 10, 5, 10, 5, 10])\n",
    "errors_two = pd.Series([5, 10, 5, 10, 5, 10, 5, 10, 5, 10, 5, 10, 5, 10, 5, 10, 5, 1000])\n",
    "\n",
    "mae_one = errors_one.mean()\n",
    "mae_two = errors_two.mean()\n",
    "rmae_one = np.sqrt(errors_one.map(lambda x: np.square(x-0)).mean())\n",
    "rmae_two = np.sqrt(errors_two.map(lambda x: np.square(x-0)).mean())\n",
    "print(mae_one, rmae_one)\n",
    "print(mae_two, rmae_two)"
   ]
  }
 ],
 "metadata": {
  "kernelspec": {
   "display_name": "Python 3",
   "language": "python",
   "name": "python3"
  },
  "language_info": {
   "codemirror_mode": {
    "name": "ipython",
    "version": 3
   },
   "file_extension": ".py",
   "mimetype": "text/x-python",
   "name": "python",
   "nbconvert_exporter": "python",
   "pygments_lexer": "ipython3",
   "version": "3.7.3"
  }
 },
 "nbformat": 4,
 "nbformat_minor": 2
}
