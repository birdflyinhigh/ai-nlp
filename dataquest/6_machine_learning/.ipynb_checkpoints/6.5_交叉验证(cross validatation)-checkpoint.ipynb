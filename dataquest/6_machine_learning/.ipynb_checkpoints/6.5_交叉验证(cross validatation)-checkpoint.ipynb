{
 "cells": [
  {
   "cell_type": "markdown",
   "metadata": {},
   "source": [
    "### 1. 简介\n",
    "在先前的任务重，我们使用了训练和测试集，用于训练和测试模型的准确度。\n",
    "\n",
    "训练集-验证集二划分校验（Holdoutvalidation）:\n",
    "\n",
    "+ 1. 将所有数据划分为训练集和测试集\n",
    "+ 2. 使用训练集训练模型\n",
    "+ 3. 使用测试集预测数据\n",
    "+ 4. 计算误差，评估模型\n",
    "+ 5. 转换训练集和测试集\n",
    "+ 6. 计算误差的平均值\n",
    "\n",
    "在holdout validataion中，我们将使用 50/50二分数据。\n",
    "\n",
    "交叉验证(Cross-validation)主要用于建模应用中，例如PCR 、PLS 回归建模中。在给定的建模样本中，拿出大部分样本进行建模型，留小部分样本用刚建立的模型进行预报，并求这小部分样本的预报误差，记录它们的平方加和。\n",
    "\n"
   ]
  }
 ],
 "metadata": {
  "kernelspec": {
   "display_name": "Python 3",
   "language": "python",
   "name": "python3"
  },
  "language_info": {
   "codemirror_mode": {
    "name": "ipython",
    "version": 3
   },
   "file_extension": ".py",
   "mimetype": "text/x-python",
   "name": "python",
   "nbconvert_exporter": "python",
   "pygments_lexer": "ipython3",
   "version": "3.7.3"
  }
 },
 "nbformat": 4,
 "nbformat_minor": 2
}
