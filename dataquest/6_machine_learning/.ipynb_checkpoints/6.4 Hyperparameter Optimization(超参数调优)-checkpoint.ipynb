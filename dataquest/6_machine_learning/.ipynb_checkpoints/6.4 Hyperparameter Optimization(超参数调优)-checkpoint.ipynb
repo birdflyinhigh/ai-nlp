{
 "cells": [
  {
   "cell_type": "markdown",
   "metadata": {},
   "source": [
    "### 1. 回顾\n",
    "通过上节我们学到了：\n",
    "1. 增加特征值在一定程度上提高了精度，但是将应用所有的特征值并不一定提高精度\n",
    "2. 选择合适的特征值，对于模型的准确性非常重要\n",
    "\n",
    "在上次任务中，我们提到，提高模型的精度有两种方式:\n",
    "1. 增加特征值\n",
    "2. 增加K值（近邻Neighbors）"
   ]
  },
  {
   "cell_type": "code",
   "execution_count": 1,
   "metadata": {},
   "outputs": [],
   "source": [
    "# 读取 训练集和测试集\n",
    "import pandas as pd \n",
    "import numpy as np\n",
    "train_df = pd.read_csv('dc_airbnb_train.csv')\n",
    "test_df = pd.read_csv('dc_airbnb_test.csv')"
   ]
  },
  {
   "cell_type": "code",
   "execution_count": 2,
   "metadata": {},
   "outputs": [
    {
     "data": {
      "text/html": [
       "<div>\n",
       "<style scoped>\n",
       "    .dataframe tbody tr th:only-of-type {\n",
       "        vertical-align: middle;\n",
       "    }\n",
       "\n",
       "    .dataframe tbody tr th {\n",
       "        vertical-align: top;\n",
       "    }\n",
       "\n",
       "    .dataframe thead th {\n",
       "        text-align: right;\n",
       "    }\n",
       "</style>\n",
       "<table border=\"1\" class=\"dataframe\">\n",
       "  <thead>\n",
       "    <tr style=\"text-align: right;\">\n",
       "      <th></th>\n",
       "      <th>accommodates</th>\n",
       "      <th>bedrooms</th>\n",
       "      <th>bathrooms</th>\n",
       "      <th>beds</th>\n",
       "      <th>price</th>\n",
       "      <th>minimum_nights</th>\n",
       "      <th>maximum_nights</th>\n",
       "      <th>number_of_reviews</th>\n",
       "    </tr>\n",
       "  </thead>\n",
       "  <tbody>\n",
       "    <tr>\n",
       "      <th>0</th>\n",
       "      <td>-0.596544</td>\n",
       "      <td>-0.249467</td>\n",
       "      <td>-0.439151</td>\n",
       "      <td>-0.546858</td>\n",
       "      <td>125.0</td>\n",
       "      <td>-0.341375</td>\n",
       "      <td>-0.016604</td>\n",
       "      <td>4.579650</td>\n",
       "    </tr>\n",
       "    <tr>\n",
       "      <th>1</th>\n",
       "      <td>-0.596544</td>\n",
       "      <td>-0.249467</td>\n",
       "      <td>0.412923</td>\n",
       "      <td>-0.546858</td>\n",
       "      <td>85.0</td>\n",
       "      <td>-0.341375</td>\n",
       "      <td>-0.016603</td>\n",
       "      <td>1.159275</td>\n",
       "    </tr>\n",
       "    <tr>\n",
       "      <th>2</th>\n",
       "      <td>-1.095499</td>\n",
       "      <td>-0.249467</td>\n",
       "      <td>-1.291226</td>\n",
       "      <td>-0.546858</td>\n",
       "      <td>50.0</td>\n",
       "      <td>-0.341375</td>\n",
       "      <td>-0.016573</td>\n",
       "      <td>-0.482505</td>\n",
       "    </tr>\n",
       "    <tr>\n",
       "      <th>3</th>\n",
       "      <td>-0.596544</td>\n",
       "      <td>-0.249467</td>\n",
       "      <td>-0.439151</td>\n",
       "      <td>-0.546858</td>\n",
       "      <td>209.0</td>\n",
       "      <td>0.487635</td>\n",
       "      <td>-0.016584</td>\n",
       "      <td>-0.448301</td>\n",
       "    </tr>\n",
       "    <tr>\n",
       "      <th>4</th>\n",
       "      <td>4.393004</td>\n",
       "      <td>4.507903</td>\n",
       "      <td>1.264998</td>\n",
       "      <td>2.829956</td>\n",
       "      <td>215.0</td>\n",
       "      <td>-0.065038</td>\n",
       "      <td>-0.016553</td>\n",
       "      <td>0.646219</td>\n",
       "    </tr>\n",
       "  </tbody>\n",
       "</table>\n",
       "</div>"
      ],
      "text/plain": [
       "   accommodates  bedrooms  bathrooms      beds  price  minimum_nights  \\\n",
       "0     -0.596544 -0.249467  -0.439151 -0.546858  125.0       -0.341375   \n",
       "1     -0.596544 -0.249467   0.412923 -0.546858   85.0       -0.341375   \n",
       "2     -1.095499 -0.249467  -1.291226 -0.546858   50.0       -0.341375   \n",
       "3     -0.596544 -0.249467  -0.439151 -0.546858  209.0        0.487635   \n",
       "4      4.393004  4.507903   1.264998  2.829956  215.0       -0.065038   \n",
       "\n",
       "   maximum_nights  number_of_reviews  \n",
       "0       -0.016604           4.579650  \n",
       "1       -0.016603           1.159275  \n",
       "2       -0.016573          -0.482505  \n",
       "3       -0.016584          -0.448301  \n",
       "4       -0.016553           0.646219  "
      ]
     },
     "execution_count": 2,
     "metadata": {},
     "output_type": "execute_result"
    }
   ],
   "source": [
    "train_df.head()"
   ]
  },
  {
   "cell_type": "code",
   "execution_count": 3,
   "metadata": {},
   "outputs": [
    {
     "data": {
      "text/html": [
       "<div>\n",
       "<style scoped>\n",
       "    .dataframe tbody tr th:only-of-type {\n",
       "        vertical-align: middle;\n",
       "    }\n",
       "\n",
       "    .dataframe tbody tr th {\n",
       "        vertical-align: top;\n",
       "    }\n",
       "\n",
       "    .dataframe thead th {\n",
       "        text-align: right;\n",
       "    }\n",
       "</style>\n",
       "<table border=\"1\" class=\"dataframe\">\n",
       "  <thead>\n",
       "    <tr style=\"text-align: right;\">\n",
       "      <th></th>\n",
       "      <th>accommodates</th>\n",
       "      <th>bedrooms</th>\n",
       "      <th>bathrooms</th>\n",
       "      <th>beds</th>\n",
       "      <th>price</th>\n",
       "      <th>minimum_nights</th>\n",
       "      <th>maximum_nights</th>\n",
       "      <th>number_of_reviews</th>\n",
       "    </tr>\n",
       "  </thead>\n",
       "  <tbody>\n",
       "    <tr>\n",
       "      <th>0</th>\n",
       "      <td>-0.596544</td>\n",
       "      <td>-1.438810</td>\n",
       "      <td>-0.439151</td>\n",
       "      <td>-0.546858</td>\n",
       "      <td>105.0</td>\n",
       "      <td>-0.341375</td>\n",
       "      <td>-0.016548</td>\n",
       "      <td>-0.243079</td>\n",
       "    </tr>\n",
       "    <tr>\n",
       "      <th>1</th>\n",
       "      <td>0.900320</td>\n",
       "      <td>0.939875</td>\n",
       "      <td>1.264998</td>\n",
       "      <td>0.297345</td>\n",
       "      <td>309.0</td>\n",
       "      <td>0.487635</td>\n",
       "      <td>-0.016594</td>\n",
       "      <td>-0.243079</td>\n",
       "    </tr>\n",
       "    <tr>\n",
       "      <th>2</th>\n",
       "      <td>-0.596544</td>\n",
       "      <td>-0.249467</td>\n",
       "      <td>2.117072</td>\n",
       "      <td>-0.546858</td>\n",
       "      <td>55.0</td>\n",
       "      <td>-0.341375</td>\n",
       "      <td>-0.016573</td>\n",
       "      <td>0.714626</td>\n",
       "    </tr>\n",
       "    <tr>\n",
       "      <th>3</th>\n",
       "      <td>-0.596544</td>\n",
       "      <td>-0.249467</td>\n",
       "      <td>-0.439151</td>\n",
       "      <td>-0.546858</td>\n",
       "      <td>180.0</td>\n",
       "      <td>-0.341375</td>\n",
       "      <td>-0.016573</td>\n",
       "      <td>-0.448301</td>\n",
       "    </tr>\n",
       "    <tr>\n",
       "      <th>4</th>\n",
       "      <td>-0.596544</td>\n",
       "      <td>-0.249467</td>\n",
       "      <td>-0.439151</td>\n",
       "      <td>-0.546858</td>\n",
       "      <td>130.0</td>\n",
       "      <td>-0.341375</td>\n",
       "      <td>-0.016573</td>\n",
       "      <td>-0.448301</td>\n",
       "    </tr>\n",
       "  </tbody>\n",
       "</table>\n",
       "</div>"
      ],
      "text/plain": [
       "   accommodates  bedrooms  bathrooms      beds  price  minimum_nights  \\\n",
       "0     -0.596544 -1.438810  -0.439151 -0.546858  105.0       -0.341375   \n",
       "1      0.900320  0.939875   1.264998  0.297345  309.0        0.487635   \n",
       "2     -0.596544 -0.249467   2.117072 -0.546858   55.0       -0.341375   \n",
       "3     -0.596544 -0.249467  -0.439151 -0.546858  180.0       -0.341375   \n",
       "4     -0.596544 -0.249467  -0.439151 -0.546858  130.0       -0.341375   \n",
       "\n",
       "   maximum_nights  number_of_reviews  \n",
       "0       -0.016548          -0.243079  \n",
       "1       -0.016594          -0.243079  \n",
       "2       -0.016573           0.714626  \n",
       "3       -0.016573          -0.448301  \n",
       "4       -0.016573          -0.448301  "
      ]
     },
     "execution_count": 3,
     "metadata": {},
     "output_type": "execute_result"
    }
   ],
   "source": [
    "test_df.head()"
   ]
  },
  {
   "cell_type": "markdown",
   "metadata": {},
   "source": [
    "### 2. 超参数调优\n",
    "当我们变换选择的特征值时， 我们在影响模型使用的数据维度；另外一方面，当我们变换K值时，我们在影响模型的性能；\n",
    "\n",
    "那些模型表现和性能的参数，我们叫做超参数(hyperparameters); 找出超参数的过程叫做超参数调优（hyperparameter optimization）\n",
    "\n",
    "一个简单但是常用的方式(网格搜素)是:\n",
    "\n",
    "+ 1. 选择一些可能的超参数子集 \n",
    "+ 2. 使用这些子集的元素训练模型\n",
    "+ 3. 计算模型的准确度\n",
    "+ 4. 选择产生误差最小的参数\n",
    "\n",
    "网格搜索最终成为通过选择K值来评价模型的表现；grid search 可能需要的时间非常长\n",
    "\n"
   ]
  },
  {
   "cell_type": "code",
   "execution_count": 4,
   "metadata": {},
   "outputs": [],
   "source": [
    "from sklearn.neighbors import KNeighborsRegressor\n",
    "from sklearn.metrics import mean_squared_error\n",
    "\n",
    "def process_model(k=5, features=[]):\n",
    "# 1. 选择对应的算法模型，初始化模型对象\n",
    "    knn = KNeighborsRegressor(algorithm='brute', n_neighbors=k)\n",
    "    # 2. 选择训练集和测试集\n",
    "    target = ['price']\n",
    "    knn.fit(train_df[features], train_df[target])\n",
    "    predictions = knn.predict(test_df[features])\n",
    "    mse = mean_squared_error(test_df[target], predictions)\n",
    "    rmse = np.sqrt(mse)\n",
    "    value = (k, mse)\n",
    "    return  value"
   ]
  },
  {
   "cell_type": "code",
   "execution_count": 5,
   "metadata": {},
   "outputs": [],
   "source": [
    "from itertools import combinations\n",
    "def gen_combine(features):\n",
    "    feature_groups = []\n",
    "    l = range(0, len(features))\n",
    "    for i in l:\n",
    "        for each in combinations(l, i+1):\n",
    "            f = [features[j] for j in each]\n",
    "            if f and f not in feature_groups:\n",
    "                feature_groups.append(f)\n",
    "    return feature_groups\n",
    "\n",
    "\n",
    "            "
   ]
  },
  {
   "cell_type": "code",
   "execution_count": 13,
   "metadata": {},
   "outputs": [
    {
     "data": {
      "text/html": [
       "<div>\n",
       "<style scoped>\n",
       "    .dataframe tbody tr th:only-of-type {\n",
       "        vertical-align: middle;\n",
       "    }\n",
       "\n",
       "    .dataframe tbody tr th {\n",
       "        vertical-align: top;\n",
       "    }\n",
       "\n",
       "    .dataframe thead th {\n",
       "        text-align: right;\n",
       "    }\n",
       "</style>\n",
       "<table border=\"1\" class=\"dataframe\">\n",
       "  <thead>\n",
       "    <tr style=\"text-align: right;\">\n",
       "      <th></th>\n",
       "      <th>k</th>\n",
       "      <th>mse</th>\n",
       "      <th>features</th>\n",
       "    </tr>\n",
       "  </thead>\n",
       "  <tbody>\n",
       "    <tr>\n",
       "      <th>42</th>\n",
       "      <td>5</td>\n",
       "      <td>13132.744892</td>\n",
       "      <td>[accommodates, bedrooms, bathrooms, minimum_ni...</td>\n",
       "    </tr>\n",
       "  </tbody>\n",
       "</table>\n",
       "</div>"
      ],
      "text/plain": [
       "    k           mse                                           features\n",
       "42  5  13132.744892  [accommodates, bedrooms, bathrooms, minimum_ni..."
      ]
     },
     "execution_count": 13,
     "metadata": {},
     "output_type": "execute_result"
    }
   ],
   "source": [
    "ks = [k for k in range(1, 20)]\n",
    "features = ['accommodates',\n",
    " 'bedrooms',\n",
    " 'bathrooms',\n",
    " 'beds',\n",
    " 'minimum_nights',\n",
    " 'maximum_nights',]\n",
    "\n",
    "feature_groups = gen_combine(features)\n",
    "data = []\n",
    "for fg in feature_groups:\n",
    "    mses = [process_model(k, fg) for k in ks]\n",
    "    mse_df = pd.DataFrame(data=mses, columns=['k', 'mse'])\n",
    "    each = mse_df.sort_values('mse').head(1).to_dict(orient='records')\n",
    "    each = each[0]\n",
    "    each.update({'features': fg})\n",
    "    data.append(each)\n",
    "    \n",
    "ddf = pd.DataFrame(data=data)\n",
    "ddf = ddf[['k', 'mse', 'features']]\n",
    "ddf.sort_values('mse').head(1)\n"
   ]
  },
  {
   "cell_type": "code",
   "execution_count": 17,
   "metadata": {},
   "outputs": [
    {
     "data": {
      "image/png": "[encoded data removed]",
      "text/plain": [
       "<Figure size 432x288 with 1 Axes>"
      ]
     },
     "metadata": {
      "needs_background": "light"
     },
     "output_type": "display_data"
    }
   ],
   "source": [
    "import matplotlib.pyplot as plt \n",
    "\n",
    "plt.scatter(mse_df.k, mse_df.mse)\n",
    "\n",
    "plt.show()"
   ]
  },
  {
   "cell_type": "code",
   "execution_count": 31,
   "metadata": {},
   "outputs": [
    {
     "name": "stdout",
     "output_type": "stream",
     "text": [
      "[1]\n",
      "[2]\n",
      "[3]\n",
      "[4]\n",
      "[1, 2]\n",
      "[1, 3]\n",
      "[1, 4]\n",
      "[2, 3]\n",
      "[2, 4]\n",
      "[3, 4]\n",
      "[1, 2, 3]\n",
      "[1, 2, 4]\n",
      "[1, 3, 4]\n",
      "[2, 3, 4]\n",
      "[1, 2, 3, 4]\n"
     ]
    }
   ],
   "source": [
    "from itertools import combinations\n",
    "\n",
    "l = [1, 2, 3, 4]\n",
    "for i in range(1, len(l)+1):\n",
    "    for each in combinations(l, i):\n",
    "        print(list(each))"
   ]
  },
  {
   "cell_type": "code",
   "execution_count": null,
   "metadata": {},
   "outputs": [],
   "source": []
  },
  {
   "cell_type": "code",
   "execution_count": null,
   "metadata": {},
   "outputs": [],
   "source": []
  },
  {
   "cell_type": "code",
   "execution_count": null,
   "metadata": {},
   "outputs": [],
   "source": []
  },
  {
   "cell_type": "code",
   "execution_count": null,
   "metadata": {},
   "outputs": [],
   "source": []
  },
  {
   "cell_type": "code",
   "execution_count": null,
   "metadata": {},
   "outputs": [],
   "source": []
  },
  {
   "cell_type": "code",
   "execution_count": null,
   "metadata": {},
   "outputs": [],
   "source": []
  },
  {
   "cell_type": "code",
   "execution_count": null,
   "metadata": {},
   "outputs": [],
   "source": []
  }
 ],
 "metadata": {
  "kernelspec": {
   "display_name": "Python 3",
   "language": "python",
   "name": "python3"
  },
  "language_info": {
   "codemirror_mode": {
    "name": "ipython",
    "version": 3
   },
   "file_extension": ".py",
   "mimetype": "text/x-python",
   "name": "python",
   "nbconvert_exporter": "python",
   "pygments_lexer": "ipython3",
   "version": "3.7.3"
  }
 },
 "nbformat": 4,
 "nbformat_minor": 2
}
